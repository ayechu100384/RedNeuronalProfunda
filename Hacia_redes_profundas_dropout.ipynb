{
 "cells": [
  {
   "cell_type": "markdown",
   "metadata": {},
   "source": [
    "# Trabajo Redes neuronales profundas\n",
    "\n",
    "El objetivo de esta práctica es entrenar una red neuronal que sea capaz de clasificar imágenes en 10 clases correspondientes a: ‘frog’, ‘truck’, ‘deer’, automobile’, ‘bird’, ‘horse’, ‘ship’, ‘cat’, ‘dog’ and ‘airplane’. "
   ]
  },
  {
   "cell_type": "code",
   "execution_count": 1,
   "metadata": {
    "collapsed": true
   },
   "outputs": [],
   "source": [
    "import numpy as np\n",
    "import matplotlib.pyplot as plt\n",
    "import random\n",
    "from time import time\n",
    "%matplotlib inline"
   ]
  },
  {
   "cell_type": "markdown",
   "metadata": {},
   "source": [
    "### Lectura de los datos de entrada"
   ]
  },
  {
   "cell_type": "markdown",
   "metadata": {},
   "source": [
    "Carga los siguientes datasets de train y test. \n"
   ]
  },
  {
   "cell_type": "code",
   "execution_count": 2,
   "metadata": {
    "collapsed": true
   },
   "outputs": [],
   "source": [
    "X = np.load('10classXY/10_class_X.npy')\n",
    "Y = np.load('10classXY/10_class_Y.npy')\n",
    "Y = Y.T\n",
    "X /= 255\n",
    "######## Escoge el número de ejemplos de train. Si tu PC es muy lento, no elijas muchos\n",
    "num_ejemplos_train = 1000\n",
    "num_ejemplos_test = 1500 - num_ejemplos_train\n",
    "X_train = np.zeros((3072, num_ejemplos_train))\n",
    "Y_train = np.zeros((10, num_ejemplos_train))\n",
    "eleccion = np.random.choice(range(50000), num_ejemplos_train, False)\n",
    "no_eleccion = [x for x in range(50000) if x not in eleccion]\n",
    "for i in range(num_ejemplos_train):\n",
    "    X_train[:, i] = X[eleccion[i], :, :, :].ravel()\n",
    "    Y_train[:, i] = Y[:, eleccion[i]]\n",
    "X_test = np.zeros((3072, num_ejemplos_test))\n",
    "Y_test = np.zeros((10, num_ejemplos_test))\n",
    "for i in range(num_ejemplos_test):\n",
    "    X_test[:, i] = X[no_eleccion[i], :, :, :].ravel()\n",
    "    Y_test[:, i] = Y[:, no_eleccion[i]]"
   ]
  },
  {
   "cell_type": "code",
   "execution_count": 3,
   "metadata": {},
   "outputs": [
    {
     "name": "stdout",
     "output_type": "stream",
     "text": [
      "Hay 1000 muestras de train\n",
      "Hay 500 muestras de test\n",
      "Cada muestra es de dimensión 3072\n"
     ]
    }
   ],
   "source": [
    "print('Hay {} muestras de train').format(X_train.shape[1])\n",
    "print('Hay {} muestras de test').format(Y_test.shape[1])\n",
    "print('Cada muestra es de dimensión {}').format(X_train.shape[0])"
   ]
  },
  {
   "cell_type": "markdown",
   "metadata": {},
   "source": [
    "#### Definimos las funciones Relu y Softmax"
   ]
  },
  {
   "cell_type": "code",
   "execution_count": 4,
   "metadata": {
    "collapsed": true
   },
   "outputs": [],
   "source": [
    "def relu(z):\n",
    "    s = np.maximum(0,z)\n",
    "    return s"
   ]
  },
  {
   "cell_type": "code",
   "execution_count": 5,
   "metadata": {
    "collapsed": true
   },
   "outputs": [],
   "source": [
    "def softmax(z):\n",
    "    t = np.exp(z)\n",
    "    s = t / np.sum(t,axis=0)\n",
    "    return s"
   ]
  },
  {
   "cell_type": "markdown",
   "metadata": {},
   "source": [
    "#### Parámetros iniciales: inicialización aleatoria"
   ]
  },
  {
   "cell_type": "code",
   "execution_count": 6,
   "metadata": {
    "collapsed": true
   },
   "outputs": [],
   "source": [
    "def parametros_iniciales(info_capas):\n",
    "    parametros  = {}\n",
    "    L = len(info_capas)\n",
    "    for i in range(1,L-1):\n",
    "        #parametros['W' + str(i)] = np.random.randn(info_capas[i],info_capas[i-1]) * 0.01 #inicialización inicial\n",
    "        parametros['W' + str(i)] = np.random.randn(info_capas[i],info_capas[i-1]) * (2.0 / info_capas[i-1]) # inicialización RELU\n",
    "        parametros['b' + str(i)] = np.zeros((info_capas[i],1))\n",
    "    parametros['W' + str(L-1)] = np.random.randn(info_capas[L-1],info_capas[L-2]) * (1.0 / info_capas[L-2]) # inicialización SOFTMAX\n",
    "    parametros['b' + str(L-1)] = np.zeros((info_capas[L-1],1))\n",
    "    return parametros"
   ]
  },
  {
   "cell_type": "markdown",
   "metadata": {},
   "source": [
    "#### Funciones para la propagación hacia adelante"
   ]
  },
  {
   "cell_type": "code",
   "execution_count": 7,
   "metadata": {
    "collapsed": true
   },
   "outputs": [],
   "source": [
    "def capa_adelante_relu(A_prev, W, b, prob_perm):\n",
    "    Z = np.dot(W, A_prev) + b\n",
    "    A = relu(Z)\n",
    "    D = np.random.rand(A.shape[0], A.shape[1])\n",
    "    D = np.float32(D <= prob_perm)\n",
    "    A = A * D / prob_perm\n",
    "    return A, Z, D\n",
    "\n",
    "def capa_adelante_softmax(A_prev, W, b):\n",
    "    Z = np.dot(W, A_prev) + b\n",
    "    A = softmax(Z)\n",
    "    return A, Z # En la última capa no se hace dropout, no tiene sentido apagar las neuronas de la clasificación"
   ]
  },
  {
   "cell_type": "code",
   "execution_count": 8,
   "metadata": {
    "collapsed": true
   },
   "outputs": [],
   "source": [
    "def propagacion_adelante(X, parametros, prob_perm):\n",
    "    L = len(parametros) / 2\n",
    "    cache = {}\n",
    "    cache['A0'] = X # guardamos los parámetros de entrada\n",
    "    for i in range(1,L): # Para cada capa aplicamos la función relu\n",
    "        # A, Z = capa_adelante(A_prev, W, b, prob_perm)\n",
    "        cache['A' + str(i)], cache['Z' + str(i)], cache['D' + str(i)] = capa_adelante_relu(cache['A' + str(i-1)], parametros['W' + str(i)], parametros['b' + str(i)], prob_perm)\n",
    "    # en la ultima capa aplicamos la funcion softmax, para calcular la salida\n",
    "    cache['A' + str(L)], cache['Z' + str(L)] = capa_adelante_softmax(cache['A' + str(L-1)], parametros['W' + str(L)], parametros['b' + str(L)])\n",
    "    return cache['A' + str(L)], cache"
   ]
  },
  {
   "cell_type": "markdown",
   "metadata": {},
   "source": [
    "Definamos ahora la función coste. Esta función recibe $A^{[L]}$ e $Y$ y calcula:\n",
    "$$J = -\\left[\\sum_{l=1}^{nc} Y \\log(A^{[l]})\\right]$$"
   ]
  },
  {
   "cell_type": "code",
   "execution_count": 9,
   "metadata": {
    "collapsed": true
   },
   "outputs": [],
   "source": [
    "def coste(A, Y):\n",
    "    m = Y.shape[1]\n",
    "    J = np.multiply(Y, np.log(A))\n",
    "    J = np.sum(J,axis=0)\n",
    "    return -np.sum(J)/m"
   ]
  },
  {
   "cell_type": "markdown",
   "metadata": {},
   "source": [
    "#### Funciones para la propagación hacia atras"
   ]
  },
  {
   "cell_type": "code",
   "execution_count": 10,
   "metadata": {
    "collapsed": true
   },
   "outputs": [],
   "source": [
    "def capa_atras_softmax(A, Y, Aprev, W):\n",
    "    dZ = A - Y\n",
    "    dW = np.dot(dZ, Aprev.T)\n",
    "    db = np.sum(dZ, axis=1, keepdims=True)\n",
    "    dA_prev = np.dot(W.T, dZ)\n",
    "    return dA_prev, dW, db\n",
    "\n",
    "def capa_atras_relu(dA, Z, Aprev, W, D): \n",
    "    dA = dA * D / prob_perm\n",
    "    dZ = dA * np.float32(Z>=0)\n",
    "    dW = np.dot(dZ, Aprev.T)\n",
    "    db = np.sum(dZ, axis=1, keepdims=True)\n",
    "    dA_prev = np.dot(W.T, dZ)\n",
    "    return dA_prev, dW, db"
   ]
  },
  {
   "cell_type": "code",
   "execution_count": 11,
   "metadata": {
    "collapsed": true
   },
   "outputs": [],
   "source": [
    "def propagacion_atras(A, Y, cache, parametros):\n",
    "    m = Y.shape[1]\n",
    "    gradientes = {}\n",
    "    L = len(parametros) / 2\n",
    "    # primero calculamos la derivada respecto de A a partir de la salida\n",
    "    gradientes['dA'+str(L)] = - np.divide(Y,A) + np.divide(1-Y, 1-A)\n",
    "    # la última capa la calculamos fuera porque emplea la función sigmoide\n",
    "    # falta dividir entre m los dW y los db\n",
    "    dA_prev, dW, db = capa_atras_softmax(A, Y, cache['A' + str(L-1)], parametros['W' + str(L)])\n",
    "    gradientes['dA' + str(L-1)] = dA_prev\n",
    "    gradientes['dW' + str(L)] = dW / m\n",
    "    gradientes['db' + str(L)] = db / m\n",
    "    for l in range(L-1, 0, -1):\n",
    "        dA_prev, dW, db = capa_atras_relu(gradientes['dA' + str(l)], cache['Z' + str(l)], cache['A' + str(l-1)], parametros['W' + str(l)], cache['D' + str(l)])\n",
    "        gradientes['dA' + str(l-1)] = dA_prev\n",
    "        gradientes['dW' + str(l)] = dW / m\n",
    "        gradientes['db' + str(l)] = db / m\n",
    "    return gradientes"
   ]
  },
  {
   "cell_type": "markdown",
   "metadata": {},
   "source": [
    "La función actualiza parámetros es muy parecida a las anteriores, pero ahora para L capas"
   ]
  },
  {
   "cell_type": "code",
   "execution_count": 12,
   "metadata": {
    "collapsed": true
   },
   "outputs": [],
   "source": [
    "def actualiza_parametros(parametros, gradientes, learning_rate):\n",
    "    L = len(parametros) / 2\n",
    "    for l in range(1, L+1):\n",
    "        parametros['W'+str(l)] = parametros['W'+str(l)] - learning_rate * gradientes['dW'+str(l)]\n",
    "        parametros['b'+str(l)] = parametros['b'+str(l)] - learning_rate * gradientes['db'+str(l)]\n",
    "    return parametros"
   ]
  },
  {
   "cell_type": "markdown",
   "metadata": {
    "collapsed": true
   },
   "source": [
    "Por último, vamos a definir la función que implementa el modelo completo. Recuerda guardar en costes el coste del sistema cada 100 iteraciones (si no almacenaremos demasiados valores y la visualización no será tan clara)."
   ]
  },
  {
   "cell_type": "code",
   "execution_count": 13,
   "metadata": {
    "collapsed": true
   },
   "outputs": [],
   "source": [
    "def red_profunda(X, Y, X_test, Y_test, info_capas, learning_rate, num_iteraciones, batch_size, prob_perm):\n",
    "    m = Y.shape[1]\n",
    "    perm = np.random.permutation(m) # array random para coger lotes con ejemplos mezclados\n",
    "    parametros = parametros_iniciales(info_capas)\n",
    "    costes = []\n",
    "    tiempo_inicial = time() \n",
    "    for i in range(num_iteraciones):\n",
    "        for b in range(0, m, batch_size): # recorremos los lotes\n",
    "            if b+batch_size <= m:\n",
    "                X_batch = X[:,perm[b:b+batch_size]]\n",
    "                Y_batch = Y[:,perm[b:b+batch_size]]\n",
    "            else:# El último lote contendrá los ejemplos que falten (será más pequeño)\n",
    "                X_batch = X[:,perm[b:m]]\n",
    "                Y_batch = Y[:,perm[b:m]]\n",
    "            A, cache = propagacion_adelante(X_batch, parametros, prob_perm)\n",
    "            gradientes = propagacion_atras(A, Y_batch, cache, parametros)\n",
    "            parametros = actualiza_parametros(parametros, gradientes, learning_rate)\n",
    "        if i % 200 == 0:\n",
    "            coste_aux = coste(A, Y_batch)\n",
    "            costes.append(coste_aux)\n",
    "            tiempo_final = time()\n",
    "            tiempo_ejecucion = tiempo_final - tiempo_inicial\n",
    "            ptrain = predecir(X, Y, parametros, prob_perm=1)\n",
    "            ptest = predecir(X_test, Y_test, parametros, prob_perm=1)\n",
    "            print 'Iteracion',i,'coste',coste_aux,'%train',ptrain*100,'p%test',ptest*100,'Tiempo de ejecución',tiempo_ejecucion\n",
    "    tiempo_final = time()\n",
    "    tiempo_ejecucion = tiempo_final - tiempo_inicial\n",
    "    print 'Iteracion',i,'coste',coste_aux,'%train',ptrain*100,'p%test',ptest*100,'Tiempo de ejecución',tiempo_ejecucion\n",
    "    plt.plot(costes)\n",
    "    return parametros"
   ]
  },
  {
   "cell_type": "markdown",
   "metadata": {},
   "source": [
    "Función predecir devuelve el porcentaje de aciertos"
   ]
  },
  {
   "cell_type": "code",
   "execution_count": 14,
   "metadata": {
    "collapsed": true
   },
   "outputs": [],
   "source": [
    "def predecir(X, Y, parametros, prob_perm):\n",
    "    m = Y.shape[1]\n",
    "    A, cache = propagacion_adelante(X, parametros,prob_perm=1)\n",
    "    A_max = np.argmax(A, axis=0)\n",
    "    Y_max = np.argmax(Y, axis=0)\n",
    "    return np.sum(A_max == Y_max,axis=0) /float(m)"
   ]
  },
  {
   "cell_type": "markdown",
   "metadata": {},
   "source": [
    "### Variables a fijar por el usuario"
   ]
  },
  {
   "cell_type": "code",
   "execution_count": 17,
   "metadata": {},
   "outputs": [
    {
     "name": "stdout",
     "output_type": "stream",
     "text": [
      "1000\n",
      "500\n"
     ]
    }
   ],
   "source": [
    "nx = X_train.shape[0] # FIJO número de características/dimensiones\n",
    "print X_train.shape[1]\n",
    "print X_test.shape[1]\n",
    "nh1 = 20 # número de neuronas de la capa oculta 1\n",
    "nh2 = 15 # número de neuronas de la capa oculta 2\n",
    "nh3 = 15 # número de neuronas de la capa oculta 3\n",
    "nh4 = 15 # número de neuronas de la capa oculta 4\n",
    "ny = 10 # FIJO número de neuronas de la capa de salida = número de clases\n",
    "info_capas = [nx, nh1, nh2, nh3,  ny]\n",
    "learning_rate = 0.05\n",
    "num_iteraciones = 10000\n",
    "batch_size = 512 # Tamaño de los lotes (anular batches batch_size = m)\n",
    "prob_perm = 1 # Probabilidad de permanencia (anular drop-out prob_perm = 1)"
   ]
  },
  {
   "cell_type": "markdown",
   "metadata": {},
   "source": [
    "### EJECUCIÓN"
   ]
  },
  {
   "cell_type": "code",
   "execution_count": 18,
   "metadata": {
    "scrolled": true
   },
   "outputs": [
    {
     "name": "stdout",
     "output_type": "stream",
     "text": [
      "Iteracion 0 coste 2.30188585308 %train 11.9 p%test 10.6 Tiempo de ejecución 0.246000051498\n",
      "Iteracion 200 coste 1.41966353236 %train 38.3 p%test 24.2 Tiempo de ejecución 18.5500001907\n",
      "Iteracion 400 coste 0.899277476599 %train 64.5 p%test 29.8 Tiempo de ejecución 37.4539999962\n",
      "Iteracion 600 coste 0.481564024495 %train 74.5 p%test 30.8 Tiempo de ejecución 56.6990001202\n",
      "Iteracion 800 coste 0.415022038341 %train 77.2 p%test 28.6 Tiempo de ejecución 77.4360001087\n",
      "Iteracion 1000 coste 0.796652316644 %train 53.7 p%test 21.8 Tiempo de ejecución 97.7840001583\n",
      "Iteracion 1200 coste 0.731561309603 %train 71.4 p%test 25.6 Tiempo de ejecución 118.390000105\n",
      "Iteracion 1400 coste 0.304962887003 %train 79.4 p%test 27.0 Tiempo de ejecución 138.032999992\n",
      "Iteracion 1600 coste 1.01481275266 %train 47.4 p%test 22.0 Tiempo de ejecución 156.544000149\n",
      "Iteracion 1800 coste 0.497542213828 %train 71.7 p%test 22.6 Tiempo de ejecución 174.818000078\n",
      "Iteracion 2000 coste 0.752768742124 %train 64.2 p%test 26.0 Tiempo de ejecución 193.403000116\n",
      "Iteracion 2200 coste 0.682469189119 %train 51.0 p%test 20.4 Tiempo de ejecución 211.842000008\n",
      "Iteracion 2400 coste 0.391737185173 %train 79.1 p%test 22.4 Tiempo de ejecución 230.950999975\n",
      "Iteracion 2600 coste 1.83681832495 %train 61.3 p%test 22.4 Tiempo de ejecución 250.738000154\n",
      "Iteracion 2800 coste 0.28730970744 %train 86.7 p%test 24.6 Tiempo de ejecución 270.169000149\n"
     ]
    },
    {
     "name": "stderr",
     "output_type": "stream",
     "text": [
      "C:\\Users\\Uxue\\Anaconda2\\lib\\site-packages\\ipykernel_launcher.py:6: RuntimeWarning: invalid value encountered in divide\n",
      "  \n"
     ]
    },
    {
     "name": "stdout",
     "output_type": "stream",
     "text": [
      "Iteracion 3000 coste 0.481000103325 %train 79.0 p%test 24.4 Tiempo de ejecución 290.541000128\n",
      "Iteracion 3200 coste 0.390186812325 %train 76.5 p%test 24.0 Tiempo de ejecución 310.43900013\n",
      "Iteracion 3400 coste 0.892315453871 %train 81.5 p%test 23.2 Tiempo de ejecución 329.132000208\n",
      "Iteracion 3600 coste 0.285921802749 %train 86.6 p%test 22.8 Tiempo de ejecución 348.909000158\n",
      "Iteracion 3800 coste 0.335455116648 %train 87.9 p%test 23.4 Tiempo de ejecución 367.810000181\n",
      "Iteracion 4000 coste 0.519076749511 %train 68.1 p%test 23.6 Tiempo de ejecución 386.847000122\n",
      "Iteracion 4200 coste 0.293587125418 %train 83.2 p%test 22.0 Tiempo de ejecución 406.319000006\n",
      "Iteracion 4400 coste 0.208914490995 %train 80.1 p%test 22.0 Tiempo de ejecución 425.896000147\n",
      "Iteracion 4600 coste 0.182887347831 %train 90.2 p%test 22.0 Tiempo de ejecución 446.863000154\n",
      "Iteracion 4800 coste 1.28054316755 %train 57.1 p%test 19.6 Tiempo de ejecución 467.034000158\n",
      "Iteracion 5000 coste 0.150262024879 %train 87.8 p%test 20.4 Tiempo de ejecución 487.005000114\n",
      "Iteracion 5200 coste 0.146330595395 %train 92.6 p%test 21.6 Tiempo de ejecución 506.527000189\n",
      "Iteracion 5400 coste 0.152447007827 %train 92.2 p%test 21.0 Tiempo de ejecución 526.116000175\n",
      "Iteracion 5600 coste 0.142147127502 %train 93.4 p%test 20.0 Tiempo de ejecución 545.93900013\n",
      "Iteracion 5800 coste 0.143377904148 %train 94.4 p%test 20.0 Tiempo de ejecución 565.239000082\n",
      "Iteracion 6000 coste 0.161754271259 %train 86.9 p%test 21.0 Tiempo de ejecución 583.683000088\n",
      "Iteracion 6200 coste 0.14431741562 %train 93.9 p%test 21.8 Tiempo de ejecución 602.167999983\n",
      "Iteracion 6400 coste 0.131189795012 %train 95.1 p%test 20.6 Tiempo de ejecución 621.133000135\n",
      "Iteracion 6600 coste 0.120631919629 %train 94.5 p%test 21.0 Tiempo de ejecución 640.953000069\n",
      "Iteracion 6800 coste 0.120856026891 %train 95.6 p%test 20.2 Tiempo de ejecución 661.664000034\n",
      "Iteracion 7000 coste 0.176313504673 %train 93.9 p%test 21.4 Tiempo de ejecución 681.320000172\n",
      "Iteracion 7200 coste 0.976167507148 %train 61.5 p%test 21.0 Tiempo de ejecución 701.950000048\n",
      "Iteracion 7400 coste 0.720023965857 %train 72.0 p%test 20.8 Tiempo de ejecución 720.67200017\n",
      "Iteracion 7600 coste 0.685466607936 %train 62.9 p%test 22.2 Tiempo de ejecución 739.154999971\n",
      "Iteracion 7800 coste 0.58482787081 %train 73.0 p%test 22.4 Tiempo de ejecución 757.335000038\n",
      "Iteracion 8000 coste 0.553064693357 %train 79.4 p%test 22.0 Tiempo de ejecución 776.060000181\n",
      "Iteracion 8200 coste 0.771254516761 %train 67.8 p%test 21.2 Tiempo de ejecución 794.348999977\n",
      "Iteracion 8400 coste 0.574773214904 %train 67.7 p%test 21.6 Tiempo de ejecución 813.519000053\n",
      "Iteracion 8600 coste 0.798115477959 %train 68.4 p%test 21.8 Tiempo de ejecución 832.11500001\n",
      "Iteracion 8800 coste 1.12401752086 %train 61.4 p%test 21.4 Tiempo de ejecución 850.549000025\n",
      "Iteracion 9000 coste 0.554642855984 %train 77.3 p%test 20.2 Tiempo de ejecución 869.70600009\n",
      "Iteracion 9200 coste 0.520661682192 %train 79.9 p%test 21.6 Tiempo de ejecución 888.871000051\n",
      "Iteracion 9400 coste 0.553134555317 %train 79.8 p%test 21.6 Tiempo de ejecución 908.257000208\n",
      "Iteracion 9600 coste 0.594435510138 %train 82.2 p%test 22.0 Tiempo de ejecución 927.890000105\n",
      "Iteracion 9800 coste 0.659124317167 %train 64.1 p%test 20.2 Tiempo de ejecución 947.929000139\n",
      "Iteracion 9999 coste 0.659124317167 %train 64.1 p%test 20.2 Tiempo de ejecución 967.335000038\n"
     ]
    },
    {
     "data": {
      "image/png": "[encoded data removed]",
      "text/plain": [
       "<matplotlib.figure.Figure at 0x7fb2080>"
      ]
     },
     "metadata": {},
     "output_type": "display_data"
    }
   ],
   "source": [
    "parametros1 = red_profunda(X_train, Y_train, X_test, Y_test, info_capas, learning_rate, num_iteraciones, batch_size, prob_perm) "
   ]
  }
 ],
 "metadata": {
  "anaconda-cloud": {},
  "kernelspec": {
   "display_name": "Python 2",
   "language": "python",
   "name": "python2"
  },
  "language_info": {
   "codemirror_mode": {
    "name": "ipython",
    "version": 2
   },
   "file_extension": ".py",
   "mimetype": "text/x-python",
   "name": "python",
   "nbconvert_exporter": "python",
   "pygments_lexer": "ipython2",
   "version": "2.7.13"
  }
 },
 "nbformat": 4,
 "nbformat_minor": 1
}
